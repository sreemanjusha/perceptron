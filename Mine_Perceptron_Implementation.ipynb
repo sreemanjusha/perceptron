{
  "nbformat": 4,
  "nbformat_minor": 0,
  "metadata": {
    "colab": {
      "name": "Mine_Perceptron_Implementation.ipynb",
      "provenance": [],
      "mount_file_id": "1RE_CsnVZSFX3NDfkOen8GT3FGxQZhUde",
      "authorship_tag": "ABX9TyOl7CsuL+PwxAiaWfG7930l",
      "include_colab_link": true
    },
    "kernelspec": {
      "name": "python3",
      "display_name": "Python 3"
    }
  },
  "cells": [
    {
      "cell_type": "markdown",
      "metadata": {
        "id": "view-in-github",
        "colab_type": "text"
      },
      "source": [
        "<a href=\"https://colab.research.google.com/github/sreemanjusha/perceptron/blob/main/Mine_Perceptron_Implementation.ipynb\" target=\"_parent\"><img src=\"https://colab.research.google.com/assets/colab-badge.svg\" alt=\"Open In Colab\"/></a>"
      ]
    },
    {
      "cell_type": "code",
      "metadata": {
        "id": "cbKE0SVZJqJx"
      },
      "source": [
        "import numpy as np\n",
        "import pandas as pd\n",
        "from sklearn.linear_model import Perceptron\n",
        "\n",
        "class percept():\n",
        "  def __init__(self,epochs,eta):\n",
        "    self.n_iter=epochs\n",
        "    self.eta=eta\n",
        "  \n",
        "  def fit(self,X_train,Y_train):\n",
        "    self.w_=np.zeros(1+X_train.shape[1])\n",
        "    self.errors_=np.zeros((self.n_iter,))\n",
        "    for epoch in np.arange(1,self.n_iter+1):\n",
        "      errors_in_this_epoch=0\n",
        "      for xi,yi in zip(X_train,Y_train):\n",
        "        self.w_[1:]+=self.eta*(yi-self.predict(xi))*xi\n",
        "        self.w_[0]+=self.eta*(yi-self.predict(xi))\n",
        "        if(yi!=self.predict(xi)):\n",
        "          errors_in_this_epoch+=1\n",
        "      self.errors_[epoch-1]=(errors_in_this_epoch/X_train.shape[0])*100\n",
        "    \n",
        "  def predict(self,x):\n",
        "      return np.where(self.net_input(x)>0,1,0)\n",
        "\n",
        "  def net_input(self,x):\n",
        "      return np.dot(x,self.w_[1:])+self.w_[0]\n",
        "\n"
      ],
      "execution_count": null,
      "outputs": []
    },
    {
      "cell_type": "code",
      "metadata": {
        "id": "NWISlpfiQUof",
        "outputId": "94031bf9-18ff-4051-eafd-82c0575b8f95",
        "colab": {
          "base_uri": "https://localhost:8080/",
          "height": 762
        }
      },
      "source": [
        "df=pd.read_csv('/content/challenger.csv')\n",
        "df"
      ],
      "execution_count": null,
      "outputs": [
        {
          "output_type": "execute_result",
          "data": {
            "text/html": [
              "<div>\n",
              "<style scoped>\n",
              "    .dataframe tbody tr th:only-of-type {\n",
              "        vertical-align: middle;\n",
              "    }\n",
              "\n",
              "    .dataframe tbody tr th {\n",
              "        vertical-align: top;\n",
              "    }\n",
              "\n",
              "    .dataframe thead th {\n",
              "        text-align: right;\n",
              "    }\n",
              "</style>\n",
              "<table border=\"1\" class=\"dataframe\">\n",
              "  <thead>\n",
              "    <tr style=\"text-align: right;\">\n",
              "      <th></th>\n",
              "      <th>o_ring_ct</th>\n",
              "      <th>O.ring.failures</th>\n",
              "      <th>temperature</th>\n",
              "      <th>pressure</th>\n",
              "      <th>launch_id</th>\n",
              "    </tr>\n",
              "  </thead>\n",
              "  <tbody>\n",
              "    <tr>\n",
              "      <th>0</th>\n",
              "      <td>6</td>\n",
              "      <td>0</td>\n",
              "      <td>66</td>\n",
              "      <td>50</td>\n",
              "      <td>1</td>\n",
              "    </tr>\n",
              "    <tr>\n",
              "      <th>1</th>\n",
              "      <td>6</td>\n",
              "      <td>1</td>\n",
              "      <td>70</td>\n",
              "      <td>50</td>\n",
              "      <td>2</td>\n",
              "    </tr>\n",
              "    <tr>\n",
              "      <th>2</th>\n",
              "      <td>6</td>\n",
              "      <td>0</td>\n",
              "      <td>69</td>\n",
              "      <td>50</td>\n",
              "      <td>3</td>\n",
              "    </tr>\n",
              "    <tr>\n",
              "      <th>3</th>\n",
              "      <td>6</td>\n",
              "      <td>0</td>\n",
              "      <td>68</td>\n",
              "      <td>50</td>\n",
              "      <td>4</td>\n",
              "    </tr>\n",
              "    <tr>\n",
              "      <th>4</th>\n",
              "      <td>6</td>\n",
              "      <td>0</td>\n",
              "      <td>67</td>\n",
              "      <td>50</td>\n",
              "      <td>5</td>\n",
              "    </tr>\n",
              "    <tr>\n",
              "      <th>5</th>\n",
              "      <td>6</td>\n",
              "      <td>0</td>\n",
              "      <td>72</td>\n",
              "      <td>50</td>\n",
              "      <td>6</td>\n",
              "    </tr>\n",
              "    <tr>\n",
              "      <th>6</th>\n",
              "      <td>6</td>\n",
              "      <td>0</td>\n",
              "      <td>73</td>\n",
              "      <td>100</td>\n",
              "      <td>7</td>\n",
              "    </tr>\n",
              "    <tr>\n",
              "      <th>7</th>\n",
              "      <td>6</td>\n",
              "      <td>0</td>\n",
              "      <td>70</td>\n",
              "      <td>100</td>\n",
              "      <td>8</td>\n",
              "    </tr>\n",
              "    <tr>\n",
              "      <th>8</th>\n",
              "      <td>6</td>\n",
              "      <td>1</td>\n",
              "      <td>57</td>\n",
              "      <td>200</td>\n",
              "      <td>9</td>\n",
              "    </tr>\n",
              "    <tr>\n",
              "      <th>9</th>\n",
              "      <td>6</td>\n",
              "      <td>1</td>\n",
              "      <td>63</td>\n",
              "      <td>200</td>\n",
              "      <td>10</td>\n",
              "    </tr>\n",
              "    <tr>\n",
              "      <th>10</th>\n",
              "      <td>6</td>\n",
              "      <td>1</td>\n",
              "      <td>70</td>\n",
              "      <td>200</td>\n",
              "      <td>11</td>\n",
              "    </tr>\n",
              "    <tr>\n",
              "      <th>11</th>\n",
              "      <td>6</td>\n",
              "      <td>0</td>\n",
              "      <td>78</td>\n",
              "      <td>200</td>\n",
              "      <td>12</td>\n",
              "    </tr>\n",
              "    <tr>\n",
              "      <th>12</th>\n",
              "      <td>6</td>\n",
              "      <td>0</td>\n",
              "      <td>67</td>\n",
              "      <td>200</td>\n",
              "      <td>13</td>\n",
              "    </tr>\n",
              "    <tr>\n",
              "      <th>13</th>\n",
              "      <td>6</td>\n",
              "      <td>2</td>\n",
              "      <td>53</td>\n",
              "      <td>200</td>\n",
              "      <td>14</td>\n",
              "    </tr>\n",
              "    <tr>\n",
              "      <th>14</th>\n",
              "      <td>6</td>\n",
              "      <td>0</td>\n",
              "      <td>67</td>\n",
              "      <td>200</td>\n",
              "      <td>15</td>\n",
              "    </tr>\n",
              "    <tr>\n",
              "      <th>15</th>\n",
              "      <td>6</td>\n",
              "      <td>0</td>\n",
              "      <td>75</td>\n",
              "      <td>200</td>\n",
              "      <td>16</td>\n",
              "    </tr>\n",
              "    <tr>\n",
              "      <th>16</th>\n",
              "      <td>6</td>\n",
              "      <td>0</td>\n",
              "      <td>70</td>\n",
              "      <td>200</td>\n",
              "      <td>17</td>\n",
              "    </tr>\n",
              "    <tr>\n",
              "      <th>17</th>\n",
              "      <td>6</td>\n",
              "      <td>0</td>\n",
              "      <td>81</td>\n",
              "      <td>200</td>\n",
              "      <td>18</td>\n",
              "    </tr>\n",
              "    <tr>\n",
              "      <th>18</th>\n",
              "      <td>6</td>\n",
              "      <td>0</td>\n",
              "      <td>76</td>\n",
              "      <td>200</td>\n",
              "      <td>19</td>\n",
              "    </tr>\n",
              "    <tr>\n",
              "      <th>19</th>\n",
              "      <td>6</td>\n",
              "      <td>0</td>\n",
              "      <td>79</td>\n",
              "      <td>200</td>\n",
              "      <td>20</td>\n",
              "    </tr>\n",
              "    <tr>\n",
              "      <th>20</th>\n",
              "      <td>6</td>\n",
              "      <td>0</td>\n",
              "      <td>75</td>\n",
              "      <td>200</td>\n",
              "      <td>21</td>\n",
              "    </tr>\n",
              "    <tr>\n",
              "      <th>21</th>\n",
              "      <td>6</td>\n",
              "      <td>0</td>\n",
              "      <td>76</td>\n",
              "      <td>200</td>\n",
              "      <td>22</td>\n",
              "    </tr>\n",
              "    <tr>\n",
              "      <th>22</th>\n",
              "      <td>6</td>\n",
              "      <td>1</td>\n",
              "      <td>58</td>\n",
              "      <td>200</td>\n",
              "      <td>23</td>\n",
              "    </tr>\n",
              "  </tbody>\n",
              "</table>\n",
              "</div>"
            ],
            "text/plain": [
              "    o_ring_ct  O.ring.failures  temperature  pressure  launch_id\n",
              "0           6                0           66        50          1\n",
              "1           6                1           70        50          2\n",
              "2           6                0           69        50          3\n",
              "3           6                0           68        50          4\n",
              "4           6                0           67        50          5\n",
              "5           6                0           72        50          6\n",
              "6           6                0           73       100          7\n",
              "7           6                0           70       100          8\n",
              "8           6                1           57       200          9\n",
              "9           6                1           63       200         10\n",
              "10          6                1           70       200         11\n",
              "11          6                0           78       200         12\n",
              "12          6                0           67       200         13\n",
              "13          6                2           53       200         14\n",
              "14          6                0           67       200         15\n",
              "15          6                0           75       200         16\n",
              "16          6                0           70       200         17\n",
              "17          6                0           81       200         18\n",
              "18          6                0           76       200         19\n",
              "19          6                0           79       200         20\n",
              "20          6                0           75       200         21\n",
              "21          6                0           76       200         22\n",
              "22          6                1           58       200         23"
            ]
          },
          "metadata": {
            "tags": []
          },
          "execution_count": 8
        }
      ]
    },
    {
      "cell_type": "code",
      "metadata": {
        "id": "3I9k7UoNSeLl",
        "outputId": "0f13560d-7fcf-4da2-f2a8-9ef682fd820c",
        "colab": {
          "base_uri": "https://localhost:8080/",
          "height": 762
        }
      },
      "source": [
        "df['O.ring.failures'].replace(2,1,inplace=True)\n",
        "df"
      ],
      "execution_count": null,
      "outputs": [
        {
          "output_type": "execute_result",
          "data": {
            "text/html": [
              "<div>\n",
              "<style scoped>\n",
              "    .dataframe tbody tr th:only-of-type {\n",
              "        vertical-align: middle;\n",
              "    }\n",
              "\n",
              "    .dataframe tbody tr th {\n",
              "        vertical-align: top;\n",
              "    }\n",
              "\n",
              "    .dataframe thead th {\n",
              "        text-align: right;\n",
              "    }\n",
              "</style>\n",
              "<table border=\"1\" class=\"dataframe\">\n",
              "  <thead>\n",
              "    <tr style=\"text-align: right;\">\n",
              "      <th></th>\n",
              "      <th>o_ring_ct</th>\n",
              "      <th>O.ring.failures</th>\n",
              "      <th>temperature</th>\n",
              "      <th>pressure</th>\n",
              "      <th>launch_id</th>\n",
              "    </tr>\n",
              "  </thead>\n",
              "  <tbody>\n",
              "    <tr>\n",
              "      <th>0</th>\n",
              "      <td>6</td>\n",
              "      <td>0</td>\n",
              "      <td>66</td>\n",
              "      <td>50</td>\n",
              "      <td>1</td>\n",
              "    </tr>\n",
              "    <tr>\n",
              "      <th>1</th>\n",
              "      <td>6</td>\n",
              "      <td>1</td>\n",
              "      <td>70</td>\n",
              "      <td>50</td>\n",
              "      <td>2</td>\n",
              "    </tr>\n",
              "    <tr>\n",
              "      <th>2</th>\n",
              "      <td>6</td>\n",
              "      <td>0</td>\n",
              "      <td>69</td>\n",
              "      <td>50</td>\n",
              "      <td>3</td>\n",
              "    </tr>\n",
              "    <tr>\n",
              "      <th>3</th>\n",
              "      <td>6</td>\n",
              "      <td>0</td>\n",
              "      <td>68</td>\n",
              "      <td>50</td>\n",
              "      <td>4</td>\n",
              "    </tr>\n",
              "    <tr>\n",
              "      <th>4</th>\n",
              "      <td>6</td>\n",
              "      <td>0</td>\n",
              "      <td>67</td>\n",
              "      <td>50</td>\n",
              "      <td>5</td>\n",
              "    </tr>\n",
              "    <tr>\n",
              "      <th>5</th>\n",
              "      <td>6</td>\n",
              "      <td>0</td>\n",
              "      <td>72</td>\n",
              "      <td>50</td>\n",
              "      <td>6</td>\n",
              "    </tr>\n",
              "    <tr>\n",
              "      <th>6</th>\n",
              "      <td>6</td>\n",
              "      <td>0</td>\n",
              "      <td>73</td>\n",
              "      <td>100</td>\n",
              "      <td>7</td>\n",
              "    </tr>\n",
              "    <tr>\n",
              "      <th>7</th>\n",
              "      <td>6</td>\n",
              "      <td>0</td>\n",
              "      <td>70</td>\n",
              "      <td>100</td>\n",
              "      <td>8</td>\n",
              "    </tr>\n",
              "    <tr>\n",
              "      <th>8</th>\n",
              "      <td>6</td>\n",
              "      <td>1</td>\n",
              "      <td>57</td>\n",
              "      <td>200</td>\n",
              "      <td>9</td>\n",
              "    </tr>\n",
              "    <tr>\n",
              "      <th>9</th>\n",
              "      <td>6</td>\n",
              "      <td>1</td>\n",
              "      <td>63</td>\n",
              "      <td>200</td>\n",
              "      <td>10</td>\n",
              "    </tr>\n",
              "    <tr>\n",
              "      <th>10</th>\n",
              "      <td>6</td>\n",
              "      <td>1</td>\n",
              "      <td>70</td>\n",
              "      <td>200</td>\n",
              "      <td>11</td>\n",
              "    </tr>\n",
              "    <tr>\n",
              "      <th>11</th>\n",
              "      <td>6</td>\n",
              "      <td>0</td>\n",
              "      <td>78</td>\n",
              "      <td>200</td>\n",
              "      <td>12</td>\n",
              "    </tr>\n",
              "    <tr>\n",
              "      <th>12</th>\n",
              "      <td>6</td>\n",
              "      <td>0</td>\n",
              "      <td>67</td>\n",
              "      <td>200</td>\n",
              "      <td>13</td>\n",
              "    </tr>\n",
              "    <tr>\n",
              "      <th>13</th>\n",
              "      <td>6</td>\n",
              "      <td>1</td>\n",
              "      <td>53</td>\n",
              "      <td>200</td>\n",
              "      <td>14</td>\n",
              "    </tr>\n",
              "    <tr>\n",
              "      <th>14</th>\n",
              "      <td>6</td>\n",
              "      <td>0</td>\n",
              "      <td>67</td>\n",
              "      <td>200</td>\n",
              "      <td>15</td>\n",
              "    </tr>\n",
              "    <tr>\n",
              "      <th>15</th>\n",
              "      <td>6</td>\n",
              "      <td>0</td>\n",
              "      <td>75</td>\n",
              "      <td>200</td>\n",
              "      <td>16</td>\n",
              "    </tr>\n",
              "    <tr>\n",
              "      <th>16</th>\n",
              "      <td>6</td>\n",
              "      <td>0</td>\n",
              "      <td>70</td>\n",
              "      <td>200</td>\n",
              "      <td>17</td>\n",
              "    </tr>\n",
              "    <tr>\n",
              "      <th>17</th>\n",
              "      <td>6</td>\n",
              "      <td>0</td>\n",
              "      <td>81</td>\n",
              "      <td>200</td>\n",
              "      <td>18</td>\n",
              "    </tr>\n",
              "    <tr>\n",
              "      <th>18</th>\n",
              "      <td>6</td>\n",
              "      <td>0</td>\n",
              "      <td>76</td>\n",
              "      <td>200</td>\n",
              "      <td>19</td>\n",
              "    </tr>\n",
              "    <tr>\n",
              "      <th>19</th>\n",
              "      <td>6</td>\n",
              "      <td>0</td>\n",
              "      <td>79</td>\n",
              "      <td>200</td>\n",
              "      <td>20</td>\n",
              "    </tr>\n",
              "    <tr>\n",
              "      <th>20</th>\n",
              "      <td>6</td>\n",
              "      <td>0</td>\n",
              "      <td>75</td>\n",
              "      <td>200</td>\n",
              "      <td>21</td>\n",
              "    </tr>\n",
              "    <tr>\n",
              "      <th>21</th>\n",
              "      <td>6</td>\n",
              "      <td>0</td>\n",
              "      <td>76</td>\n",
              "      <td>200</td>\n",
              "      <td>22</td>\n",
              "    </tr>\n",
              "    <tr>\n",
              "      <th>22</th>\n",
              "      <td>6</td>\n",
              "      <td>1</td>\n",
              "      <td>58</td>\n",
              "      <td>200</td>\n",
              "      <td>23</td>\n",
              "    </tr>\n",
              "  </tbody>\n",
              "</table>\n",
              "</div>"
            ],
            "text/plain": [
              "    o_ring_ct  O.ring.failures  temperature  pressure  launch_id\n",
              "0           6                0           66        50          1\n",
              "1           6                1           70        50          2\n",
              "2           6                0           69        50          3\n",
              "3           6                0           68        50          4\n",
              "4           6                0           67        50          5\n",
              "5           6                0           72        50          6\n",
              "6           6                0           73       100          7\n",
              "7           6                0           70       100          8\n",
              "8           6                1           57       200          9\n",
              "9           6                1           63       200         10\n",
              "10          6                1           70       200         11\n",
              "11          6                0           78       200         12\n",
              "12          6                0           67       200         13\n",
              "13          6                1           53       200         14\n",
              "14          6                0           67       200         15\n",
              "15          6                0           75       200         16\n",
              "16          6                0           70       200         17\n",
              "17          6                0           81       200         18\n",
              "18          6                0           76       200         19\n",
              "19          6                0           79       200         20\n",
              "20          6                0           75       200         21\n",
              "21          6                0           76       200         22\n",
              "22          6                1           58       200         23"
            ]
          },
          "metadata": {
            "tags": []
          },
          "execution_count": 10
        }
      ]
    },
    {
      "cell_type": "code",
      "metadata": {
        "id": "sw_R2-b9TR87"
      },
      "source": [
        "from sklearn.model_selection import train_test_split"
      ],
      "execution_count": null,
      "outputs": []
    },
    {
      "cell_type": "code",
      "metadata": {
        "id": "3FTAkF-8iEUp"
      },
      "source": [
        "X=df.iloc[:,[0,2,3,4]].values\n",
        "Y=df.iloc[:,1].values"
      ],
      "execution_count": null,
      "outputs": []
    },
    {
      "cell_type": "code",
      "metadata": {
        "id": "Id-vc74jigRu",
        "outputId": "0bcbe3e6-b65b-4bb8-cc85-f9fc3ab442c4",
        "colab": {
          "base_uri": "https://localhost:8080/",
          "height": 408
        }
      },
      "source": [
        "X"
      ],
      "execution_count": null,
      "outputs": [
        {
          "output_type": "execute_result",
          "data": {
            "text/plain": [
              "array([[  6,  66,  50,   1],\n",
              "       [  6,  70,  50,   2],\n",
              "       [  6,  69,  50,   3],\n",
              "       [  6,  68,  50,   4],\n",
              "       [  6,  67,  50,   5],\n",
              "       [  6,  72,  50,   6],\n",
              "       [  6,  73, 100,   7],\n",
              "       [  6,  70, 100,   8],\n",
              "       [  6,  57, 200,   9],\n",
              "       [  6,  63, 200,  10],\n",
              "       [  6,  70, 200,  11],\n",
              "       [  6,  78, 200,  12],\n",
              "       [  6,  67, 200,  13],\n",
              "       [  6,  53, 200,  14],\n",
              "       [  6,  67, 200,  15],\n",
              "       [  6,  75, 200,  16],\n",
              "       [  6,  70, 200,  17],\n",
              "       [  6,  81, 200,  18],\n",
              "       [  6,  76, 200,  19],\n",
              "       [  6,  79, 200,  20],\n",
              "       [  6,  75, 200,  21],\n",
              "       [  6,  76, 200,  22],\n",
              "       [  6,  58, 200,  23]])"
            ]
          },
          "metadata": {
            "tags": []
          },
          "execution_count": 13
        }
      ]
    },
    {
      "cell_type": "code",
      "metadata": {
        "id": "QmS3TYmYrQyG",
        "outputId": "13c73b96-3940-4ba9-c4de-4f0db4e522fc",
        "colab": {
          "base_uri": "https://localhost:8080/",
          "height": 51
        }
      },
      "source": [
        "Y"
      ],
      "execution_count": null,
      "outputs": [
        {
          "output_type": "execute_result",
          "data": {
            "text/plain": [
              "array([0, 1, 0, 0, 0, 0, 0, 0, 1, 1, 1, 0, 0, 1, 0, 0, 0, 0, 0, 0, 0, 0,\n",
              "       1])"
            ]
          },
          "metadata": {
            "tags": []
          },
          "execution_count": 29
        }
      ]
    },
    {
      "cell_type": "code",
      "metadata": {
        "id": "W77eDnozijA0"
      },
      "source": [
        "X_train,X_test,Y_train,Y_test= train_test_split(X,Y,test_size=0.2,random_state=0)"
      ],
      "execution_count": null,
      "outputs": []
    },
    {
      "cell_type": "code",
      "metadata": {
        "id": "nEftlr9UjZOa"
      },
      "source": [
        "perc = percept(10,0.01)\n",
        "t=perc.fit(X_train,Y_train)"
      ],
      "execution_count": null,
      "outputs": []
    },
    {
      "cell_type": "code",
      "metadata": {
        "id": "LQXaA-_urd7x",
        "outputId": "f6baca5a-0de9-4662-85e1-77d0bf5b6130",
        "colab": {
          "base_uri": "https://localhost:8080/",
          "height": 34
        }
      },
      "source": [
        "y_pred=perc.predict(X_test)\n",
        "print(Y_test-y_pred)"
      ],
      "execution_count": null,
      "outputs": [
        {
          "output_type": "stream",
          "text": [
            "[0 1 0 0 0]\n"
          ],
          "name": "stdout"
        }
      ]
    },
    {
      "cell_type": "code",
      "metadata": {
        "id": "A63LeEWAuHID",
        "outputId": "80256dd3-f746-4ca1-a818-92b391e531ca",
        "colab": {
          "base_uri": "https://localhost:8080/",
          "height": 102
        }
      },
      "source": [
        "X_test"
      ],
      "execution_count": null,
      "outputs": [
        {
          "output_type": "execute_result",
          "data": {
            "text/plain": [
              "array([[  6,  78, 200,  12],\n",
              "       [  6,  70, 200,  11],\n",
              "       [  6,  76, 200,  22],\n",
              "       [  6,  67, 200,  15],\n",
              "       [  6,  75, 200,  21]])"
            ]
          },
          "metadata": {
            "tags": []
          },
          "execution_count": 43
        }
      ]
    },
    {
      "cell_type": "code",
      "metadata": {
        "id": "ZqUy7XU3sJWL",
        "outputId": "e4a5cf3d-13c9-443b-d8ff-7fe5ccef3c7a",
        "colab": {
          "base_uri": "https://localhost:8080/",
          "height": 34
        }
      },
      "source": [
        "Y_pred"
      ],
      "execution_count": null,
      "outputs": [
        {
          "output_type": "execute_result",
          "data": {
            "text/plain": [
              "array([0, 0, 0, 0, 0])"
            ]
          },
          "metadata": {
            "tags": []
          },
          "execution_count": 37
        }
      ]
    },
    {
      "cell_type": "code",
      "metadata": {
        "id": "QHZdnyzWtMCm",
        "outputId": "ebd989e0-702a-4c93-d66b-6c4539d2cb9c",
        "colab": {
          "base_uri": "https://localhost:8080/",
          "height": 34
        }
      },
      "source": [
        "Y_test"
      ],
      "execution_count": null,
      "outputs": [
        {
          "output_type": "execute_result",
          "data": {
            "text/plain": [
              "array([0, 1, 0, 0, 0])"
            ]
          },
          "metadata": {
            "tags": []
          },
          "execution_count": 39
        }
      ]
    },
    {
      "cell_type": "code",
      "metadata": {
        "id": "E92KL-l9tZT-",
        "outputId": "8a090cf9-72a0-40f9-c7bf-cb3066e993a6",
        "colab": {
          "base_uri": "https://localhost:8080/",
          "height": 51
        }
      },
      "source": [
        "print(perc.errors_)"
      ],
      "execution_count": null,
      "outputs": [
        {
          "output_type": "stream",
          "text": [
            "[ 5.55555556 11.11111111  5.55555556  5.55555556  5.55555556  5.55555556\n",
            "  5.55555556  5.55555556  5.55555556  5.55555556]\n"
          ],
          "name": "stdout"
        }
      ]
    },
    {
      "cell_type": "code",
      "metadata": {
        "id": "v22ymJVy0IgF",
        "outputId": "1c6eabc6-fbad-4243-feb4-d039cc0c5c00",
        "colab": {
          "base_uri": "https://localhost:8080/",
          "height": 34
        }
      },
      "source": [
        "print(perc.fit(X_train,Y_train))"
      ],
      "execution_count": null,
      "outputs": [
        {
          "output_type": "stream",
          "text": [
            "None\n"
          ],
          "name": "stdout"
        }
      ]
    }
  ]
}